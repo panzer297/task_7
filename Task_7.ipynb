{
 "cells": [
  {
   "cell_type": "code",
   "execution_count": 2,
   "id": "c9379009-34ea-4b43-8604-2c5ed11abd55",
   "metadata": {},
   "outputs": [],
   "source": [
    "import sqlite3"
   ]
  },
  {
   "cell_type": "code",
   "execution_count": 5,
   "id": "0cda2ffa-13fb-4185-8fc9-b2905f2ce21b",
   "metadata": {},
   "outputs": [],
   "source": [
    "# Connect to (or create) the database file\n",
    "conn = sqlite3.connect(\"sales_data.db\")\n",
    "cursor = conn.cursor()"
   ]
  },
  {
   "cell_type": "code",
   "execution_count": 6,
   "id": "593e8d24-fac9-4a68-97e8-03377b0de85a",
   "metadata": {},
   "outputs": [
    {
     "data": {
      "text/plain": [
       "<sqlite3.Cursor at 0x1eb92efcb40>"
      ]
     },
     "execution_count": 6,
     "metadata": {},
     "output_type": "execute_result"
    }
   ],
   "source": [
    "cursor.execute(\"\"\"\n",
    "    CREATE TABLE IF NOT EXISTS sales (\n",
    "        id INTEGER PRIMARY KEY AUTOINCREMENT,\n",
    "        product TEXT,\n",
    "        quantity INTEGER,\n",
    "        price REAL\n",
    "    )\n",
    "\"\"\")"
   ]
  },
  {
   "cell_type": "code",
   "execution_count": 8,
   "id": "39f912bf-5801-447d-be9c-9c7341fd8cba",
   "metadata": {},
   "outputs": [],
   "source": [
    "sample_data = [\n",
    "    (\"Pen\", 10, 5.0),\n",
    "    (\"Notebook\", 5, 20.0),\n",
    "    (\"Pencil\", 15, 2.0),\n",
    "    (\"Eraser\", 8, 3.0),\n",
    "    (\"Pen\", 7, 5.0),\n",
    "    (\"Notebook\", 2, 20.0),\n",
    "    (\"Pencil\", 6, 2.0),\n",
    "    (\"Eraser\", 4, 3.0),\n",
    "]"
   ]
  },
  {
   "cell_type": "code",
   "execution_count": 9,
   "id": "a1372004-1538-4a7c-9b07-993188028e0a",
   "metadata": {},
   "outputs": [
    {
     "name": "stdout",
     "output_type": "stream",
     "text": [
      "✅ Step 1 Complete: Database and sample data created.\n"
     ]
    }
   ],
   "source": [
    "cursor.executemany(\"INSERT INTO sales (product, quantity, price) VALUES (?, ?, ?)\", sample_data)\n",
    "conn.commit()\n",
    "conn.close()\n",
    "\n",
    "print(\"✅ Step 1 Complete: Database and sample data created.\")"
   ]
  },
  {
   "cell_type": "code",
   "execution_count": 22,
   "id": "8eb3c1c4-4c8d-4ca8-a432-f010da0accfc",
   "metadata": {},
   "outputs": [
    {
     "name": "stdout",
     "output_type": "stream",
     "text": [
      "🔍 Sales Summary:\n",
      "    product  total_qty  revenue\n",
      "0    Eraser         12     36.0\n",
      "1  Notebook          7    140.0\n",
      "2       Pen         17     85.0\n",
      "3    Pencil         21     42.0\n"
     ]
    }
   ],
   "source": [
    "import sqlite3\n",
    "import pandas as pd\n",
    "\n",
    "# Reconnect to the database\n",
    "conn = sqlite3.connect(\"sales_data.db\")\n",
    "\n",
    "# SQL query to summarize sales\n",
    "query = \"\"\"\n",
    "SELECT \n",
    "    product,\n",
    "    SUM(quantity) AS total_qty,\n",
    "    SUM(quantity * price) AS revenue\n",
    "FROM sales\n",
    "GROUP BY product\n",
    "\"\"\"\n",
    "\n",
    "# Run query while connection is open\n",
    "df = pd.read_sql_query(query, conn)\n",
    "\n",
    "# Now close the connection\n",
    "conn.close()\n",
    "\n",
    "# Print the result\n",
    "print(\"🔍 Sales Summary:\")\n",
    "print(df)\n"
   ]
  },
  {
   "cell_type": "code",
   "execution_count": 23,
   "id": "dbf6e138-2848-49a1-a657-a0a2768ef93a",
   "metadata": {},
   "outputs": [
    {
     "data": {
      "image/png": "[encoded data removed]",
      "text/plain": [
       "<Figure size 640x480 with 1 Axes>"
      ]
     },
     "metadata": {},
     "output_type": "display_data"
    }
   ],
   "source": [
    "import matplotlib.pyplot as plt\n",
    "\n",
    "# Plot bar chart: product vs revenue\n",
    "df.plot(kind='bar', x='product', y='revenue', legend=False)\n",
    "\n",
    "# Add labels and title\n",
    "plt.xlabel(\"Product\")\n",
    "plt.ylabel(\"Revenue\")\n",
    "plt.title(\"Revenue per Product\")\n",
    "\n",
    "# Optional: Save the chart as an image\n",
    "plt.savefig(\"sales_chart.png\", bbox_inches='tight')\n",
    "\n",
    "# Show the chart\n",
    "plt.show()\n"
   ]
  },
  {
   "cell_type": "code",
   "execution_count": null,
   "id": "d91dfed6-099b-4390-a1e5-1743ad660860",
   "metadata": {},
   "outputs": [],
   "source": [
    "### Summary of Findings\n",
    "## The sales data was analyzed using SQL queries executed in Python via `sqlite3` and `pandas`.\n",
    "## Total \"quantity sold\" and \"revenue per product\" were calculated using SQL aggregation functions.\n",
    "## The product-wise revenue chart revealed:\n",
    "  # 🖊️ 'Pen' and 📓 'Notebook' generated the 'highest revenue'.\n",
    "  # ✏️ 'Pencil' and 🧽 'Eraser' contributed moderately to overall sales.\n",
    "## A bar chart was created using `matplotlib` to visualize revenue by product, and the image was saved as `sales_chart.png`.\n"
   ]
  }
 ],
 "metadata": {
  "kernelspec": {
   "display_name": "Python 3 (ipykernel)",
   "language": "python",
   "name": "python3"
  },
  "language_info": {
   "codemirror_mode": {
    "name": "ipython",
    "version": 3
   },
   "file_extension": ".py",
   "mimetype": "text/x-python",
   "name": "python",
   "nbconvert_exporter": "python",
   "pygments_lexer": "ipython3",
   "version": "3.12.6"
  }
 },
 "nbformat": 4,
 "nbformat_minor": 5
}
